{
 "cells": [
  {
   "cell_type": "code",
   "execution_count": 1,
   "id": "e6068d65",
   "metadata": {
    "ExecuteTime": {
     "end_time": "2023-02-21T21:42:45.086130Z",
     "start_time": "2023-02-21T21:42:42.780270Z"
    }
   },
   "outputs": [],
   "source": [
    "import pandas as pd\n",
    "import numpy as np\n",
    "import sklearn\n",
    "import matplotlib.pyplot as plt\n",
    "%matplotlib inline\n",
    "import seaborn as sns\n",
    "from sklearn.model_selection import cross_val_score\n",
    "from sklearn.preprocessing import StandardScaler\n",
    "from sklearn.metrics import mean_squared_error"
   ]
  },
  {
   "cell_type": "code",
   "execution_count": 2,
   "id": "841eddae",
   "metadata": {
    "ExecuteTime": {
     "end_time": "2023-02-21T21:42:57.824203Z",
     "start_time": "2023-02-21T21:42:50.265222Z"
    }
   },
   "outputs": [
    {
     "name": "stdout",
     "output_type": "stream",
     "text": [
      "Requirement already satisfied: keras in c:\\users\\prajwal\\anaconda3\\lib\\site-packages (2.11.0)\n"
     ]
    }
   ],
   "source": [
    "!pip install keras "
   ]
  },
  {
   "cell_type": "code",
   "execution_count": 3,
   "id": "a7ae2f06",
   "metadata": {
    "ExecuteTime": {
     "end_time": "2023-02-21T21:43:09.945569Z",
     "start_time": "2023-02-21T21:43:02.930490Z"
    }
   },
   "outputs": [
    {
     "name": "stdout",
     "output_type": "stream",
     "text": [
      "Requirement already satisfied: tensorflow in c:\\users\\prajwal\\anaconda3\\lib\\site-packages (2.11.0)\n",
      "Requirement already satisfied: tensorflow-intel==2.11.0 in c:\\users\\prajwal\\anaconda3\\lib\\site-packages (from tensorflow) (2.11.0)\n",
      "Requirement already satisfied: absl-py>=1.0.0 in c:\\users\\prajwal\\anaconda3\\lib\\site-packages (from tensorflow-intel==2.11.0->tensorflow) (1.4.0)\n",
      "Requirement already satisfied: gast<=0.4.0,>=0.2.1 in c:\\users\\prajwal\\anaconda3\\lib\\site-packages (from tensorflow-intel==2.11.0->tensorflow) (0.4.0)\n",
      "Requirement already satisfied: astunparse>=1.6.0 in c:\\users\\prajwal\\anaconda3\\lib\\site-packages (from tensorflow-intel==2.11.0->tensorflow) (1.6.3)\n",
      "Requirement already satisfied: numpy>=1.20 in c:\\users\\prajwal\\anaconda3\\lib\\site-packages (from tensorflow-intel==2.11.0->tensorflow) (1.21.5)\n",
      "Requirement already satisfied: six>=1.12.0 in c:\\users\\prajwal\\anaconda3\\lib\\site-packages (from tensorflow-intel==2.11.0->tensorflow) (1.16.0)\n",
      "Requirement already satisfied: keras<2.12,>=2.11.0 in c:\\users\\prajwal\\anaconda3\\lib\\site-packages (from tensorflow-intel==2.11.0->tensorflow) (2.11.0)\n",
      "Requirement already satisfied: opt-einsum>=2.3.2 in c:\\users\\prajwal\\anaconda3\\lib\\site-packages (from tensorflow-intel==2.11.0->tensorflow) (3.3.0)\n",
      "Requirement already satisfied: packaging in c:\\users\\prajwal\\anaconda3\\lib\\site-packages (from tensorflow-intel==2.11.0->tensorflow) (21.3)\n",
      "Requirement already satisfied: tensorflow-estimator<2.12,>=2.11.0 in c:\\users\\prajwal\\anaconda3\\lib\\site-packages (from tensorflow-intel==2.11.0->tensorflow) (2.11.0)\n",
      "Requirement already satisfied: google-pasta>=0.1.1 in c:\\users\\prajwal\\anaconda3\\lib\\site-packages (from tensorflow-intel==2.11.0->tensorflow) (0.2.0)\n",
      "Requirement already satisfied: termcolor>=1.1.0 in c:\\users\\prajwal\\anaconda3\\lib\\site-packages (from tensorflow-intel==2.11.0->tensorflow) (2.2.0)\n",
      "Requirement already satisfied: typing-extensions>=3.6.6 in c:\\users\\prajwal\\anaconda3\\lib\\site-packages (from tensorflow-intel==2.11.0->tensorflow) (4.3.0)\n",
      "Requirement already satisfied: wrapt>=1.11.0 in c:\\users\\prajwal\\anaconda3\\lib\\site-packages (from tensorflow-intel==2.11.0->tensorflow) (1.14.1)\n",
      "Requirement already satisfied: tensorboard<2.12,>=2.11 in c:\\users\\prajwal\\anaconda3\\lib\\site-packages (from tensorflow-intel==2.11.0->tensorflow) (2.11.2)\n",
      "Requirement already satisfied: setuptools in c:\\users\\prajwal\\anaconda3\\lib\\site-packages (from tensorflow-intel==2.11.0->tensorflow) (63.4.1)\n",
      "Requirement already satisfied: libclang>=13.0.0 in c:\\users\\prajwal\\anaconda3\\lib\\site-packages (from tensorflow-intel==2.11.0->tensorflow) (15.0.6.1)\n",
      "Requirement already satisfied: protobuf<3.20,>=3.9.2 in c:\\users\\prajwal\\anaconda3\\lib\\site-packages (from tensorflow-intel==2.11.0->tensorflow) (3.19.6)\n",
      "Requirement already satisfied: grpcio<2.0,>=1.24.3 in c:\\users\\prajwal\\anaconda3\\lib\\site-packages (from tensorflow-intel==2.11.0->tensorflow) (1.51.1)\n",
      "Requirement already satisfied: h5py>=2.9.0 in c:\\users\\prajwal\\anaconda3\\lib\\site-packages (from tensorflow-intel==2.11.0->tensorflow) (3.7.0)\n",
      "Requirement already satisfied: tensorflow-io-gcs-filesystem>=0.23.1 in c:\\users\\prajwal\\anaconda3\\lib\\site-packages (from tensorflow-intel==2.11.0->tensorflow) (0.30.0)\n",
      "Requirement already satisfied: flatbuffers>=2.0 in c:\\users\\prajwal\\anaconda3\\lib\\site-packages (from tensorflow-intel==2.11.0->tensorflow) (23.1.21)\n",
      "Requirement already satisfied: wheel<1.0,>=0.23.0 in c:\\users\\prajwal\\anaconda3\\lib\\site-packages (from astunparse>=1.6.0->tensorflow-intel==2.11.0->tensorflow) (0.37.1)\n",
      "Requirement already satisfied: google-auth-oauthlib<0.5,>=0.4.1 in c:\\users\\prajwal\\anaconda3\\lib\\site-packages (from tensorboard<2.12,>=2.11->tensorflow-intel==2.11.0->tensorflow) (0.4.6)\n",
      "Requirement already satisfied: markdown>=2.6.8 in c:\\users\\prajwal\\anaconda3\\lib\\site-packages (from tensorboard<2.12,>=2.11->tensorflow-intel==2.11.0->tensorflow) (3.3.4)\n",
      "Requirement already satisfied: requests<3,>=2.21.0 in c:\\users\\prajwal\\anaconda3\\lib\\site-packages (from tensorboard<2.12,>=2.11->tensorflow-intel==2.11.0->tensorflow) (2.28.1)\n",
      "Requirement already satisfied: tensorboard-data-server<0.7.0,>=0.6.0 in c:\\users\\prajwal\\anaconda3\\lib\\site-packages (from tensorboard<2.12,>=2.11->tensorflow-intel==2.11.0->tensorflow) (0.6.1)\n",
      "Requirement already satisfied: werkzeug>=1.0.1 in c:\\users\\prajwal\\anaconda3\\lib\\site-packages (from tensorboard<2.12,>=2.11->tensorflow-intel==2.11.0->tensorflow) (2.0.3)\n",
      "Requirement already satisfied: google-auth<3,>=1.6.3 in c:\\users\\prajwal\\anaconda3\\lib\\site-packages (from tensorboard<2.12,>=2.11->tensorflow-intel==2.11.0->tensorflow) (2.16.1)\n",
      "Requirement already satisfied: tensorboard-plugin-wit>=1.6.0 in c:\\users\\prajwal\\anaconda3\\lib\\site-packages (from tensorboard<2.12,>=2.11->tensorflow-intel==2.11.0->tensorflow) (1.8.1)\n",
      "Requirement already satisfied: pyparsing!=3.0.5,>=2.0.2 in c:\\users\\prajwal\\anaconda3\\lib\\site-packages (from packaging->tensorflow-intel==2.11.0->tensorflow) (3.0.9)\n",
      "Requirement already satisfied: rsa<5,>=3.1.4 in c:\\users\\prajwal\\anaconda3\\lib\\site-packages (from google-auth<3,>=1.6.3->tensorboard<2.12,>=2.11->tensorflow-intel==2.11.0->tensorflow) (4.9)\n",
      "Requirement already satisfied: cachetools<6.0,>=2.0.0 in c:\\users\\prajwal\\anaconda3\\lib\\site-packages (from google-auth<3,>=1.6.3->tensorboard<2.12,>=2.11->tensorflow-intel==2.11.0->tensorflow) (5.3.0)\n",
      "Requirement already satisfied: pyasn1-modules>=0.2.1 in c:\\users\\prajwal\\anaconda3\\lib\\site-packages (from google-auth<3,>=1.6.3->tensorboard<2.12,>=2.11->tensorflow-intel==2.11.0->tensorflow) (0.2.8)\n",
      "Requirement already satisfied: requests-oauthlib>=0.7.0 in c:\\users\\prajwal\\anaconda3\\lib\\site-packages (from google-auth-oauthlib<0.5,>=0.4.1->tensorboard<2.12,>=2.11->tensorflow-intel==2.11.0->tensorflow) (1.3.1)\n",
      "Requirement already satisfied: idna<4,>=2.5 in c:\\users\\prajwal\\anaconda3\\lib\\site-packages (from requests<3,>=2.21.0->tensorboard<2.12,>=2.11->tensorflow-intel==2.11.0->tensorflow) (3.3)\n",
      "Requirement already satisfied: urllib3<1.27,>=1.21.1 in c:\\users\\prajwal\\anaconda3\\lib\\site-packages (from requests<3,>=2.21.0->tensorboard<2.12,>=2.11->tensorflow-intel==2.11.0->tensorflow) (1.26.11)\n",
      "Requirement already satisfied: certifi>=2017.4.17 in c:\\users\\prajwal\\anaconda3\\lib\\site-packages (from requests<3,>=2.21.0->tensorboard<2.12,>=2.11->tensorflow-intel==2.11.0->tensorflow) (2022.9.14)\n",
      "Requirement already satisfied: charset-normalizer<3,>=2 in c:\\users\\prajwal\\anaconda3\\lib\\site-packages (from requests<3,>=2.21.0->tensorboard<2.12,>=2.11->tensorflow-intel==2.11.0->tensorflow) (2.0.4)\n",
      "Requirement already satisfied: pyasn1<0.5.0,>=0.4.6 in c:\\users\\prajwal\\anaconda3\\lib\\site-packages (from pyasn1-modules>=0.2.1->google-auth<3,>=1.6.3->tensorboard<2.12,>=2.11->tensorflow-intel==2.11.0->tensorflow) (0.4.8)\n",
      "Requirement already satisfied: oauthlib>=3.0.0 in c:\\users\\prajwal\\anaconda3\\lib\\site-packages (from requests-oauthlib>=0.7.0->google-auth-oauthlib<0.5,>=0.4.1->tensorboard<2.12,>=2.11->tensorflow-intel==2.11.0->tensorflow) (3.2.2)\n"
     ]
    }
   ],
   "source": [
    "!pip install tensorflow"
   ]
  },
  {
   "cell_type": "markdown",
   "id": "aceae532",
   "metadata": {},
   "source": [
    "# Problem_Statement:\n",
    "The dataset contains 36733 instances of 11 sensor measures aggregated over one hour (by means of average or sum) from a gas turbine. \n",
    "The Dataset includes gas turbine parameters (such as Turbine Inlet Temperature and Compressor Discharge pressure) in addition to the ambient variables.\n",
    "\n",
    "\n",
    "\n",
    "Problem statement: predicting turbine energy yield (TEY) using ambient variables as features.\n",
    "\n",
    "\n",
    "\n",
    "Attribute Information:\n",
    "\n",
    "The explanations of sensor measurements and their brief statistics are given below.\n",
    "\n",
    "Variable (Abbr.) Unit Min Max Mean\n",
    "Ambient temperature (AT) C â€“6.23 37.10 17.71\n",
    "Ambient pressure (AP) mbar 985.85 1036.56 1013.07\n",
    "Ambient humidity (AH) (%) 24.08 100.20 77.87\n",
    "Air filter difference pressure (AFDP) mbar 2.09 7.61 3.93\n",
    "Gas turbine exhaust pressure (GTEP) mbar 17.70 40.72 25.56\n",
    "Turbine inlet temperature (TIT) C 1000.85 1100.89 1081.43\n",
    "Turbine after temperature (TAT) C 511.04 550.61 546.16\n",
    "Compressor discharge pressure (CDP) mbar 9.85 15.16 12.06\n",
    "Turbine energy yield (TEY) MWH 100.02 179.50 133.51\n",
    "Carbon monoxide (CO) mg/m3 0.00 44.10 2.37\n",
    "Nitrogen oxides (NOx) mg/m3 25.90 119.91 65.29"
   ]
  },
  {
   "cell_type": "markdown",
   "id": "05668c8e",
   "metadata": {},
   "source": [
    "# _Importing_data and EDA_Visualization_"
   ]
  },
  {
   "cell_type": "code",
   "execution_count": 8,
   "id": "21162d58",
   "metadata": {
    "ExecuteTime": {
     "end_time": "2023-02-21T21:52:01.790395Z",
     "start_time": "2023-02-21T21:52:00.256695Z"
    }
   },
   "outputs": [
    {
     "data": {
      "text/html": [
       "<div>\n",
       "<style scoped>\n",
       "    .dataframe tbody tr th:only-of-type {\n",
       "        vertical-align: middle;\n",
       "    }\n",
       "\n",
       "    .dataframe tbody tr th {\n",
       "        vertical-align: top;\n",
       "    }\n",
       "\n",
       "    .dataframe thead th {\n",
       "        text-align: right;\n",
       "    }\n",
       "</style>\n",
       "<table border=\"1\" class=\"dataframe\">\n",
       "  <thead>\n",
       "    <tr style=\"text-align: right;\">\n",
       "      <th></th>\n",
       "      <th>AT</th>\n",
       "      <th>AP</th>\n",
       "      <th>AH</th>\n",
       "      <th>AFDP</th>\n",
       "      <th>GTEP</th>\n",
       "      <th>TIT</th>\n",
       "      <th>TAT</th>\n",
       "      <th>TEY</th>\n",
       "      <th>CDP</th>\n",
       "      <th>CO</th>\n",
       "      <th>NOX</th>\n",
       "    </tr>\n",
       "  </thead>\n",
       "  <tbody>\n",
       "    <tr>\n",
       "      <th>0</th>\n",
       "      <td>6.8594</td>\n",
       "      <td>1007.9</td>\n",
       "      <td>96.799</td>\n",
       "      <td>3.5000</td>\n",
       "      <td>19.663</td>\n",
       "      <td>1059.2</td>\n",
       "      <td>550.00</td>\n",
       "      <td>114.70</td>\n",
       "      <td>10.605</td>\n",
       "      <td>3.1547</td>\n",
       "      <td>82.722</td>\n",
       "    </tr>\n",
       "    <tr>\n",
       "      <th>1</th>\n",
       "      <td>6.7850</td>\n",
       "      <td>1008.4</td>\n",
       "      <td>97.118</td>\n",
       "      <td>3.4998</td>\n",
       "      <td>19.728</td>\n",
       "      <td>1059.3</td>\n",
       "      <td>550.00</td>\n",
       "      <td>114.72</td>\n",
       "      <td>10.598</td>\n",
       "      <td>3.2363</td>\n",
       "      <td>82.776</td>\n",
       "    </tr>\n",
       "    <tr>\n",
       "      <th>2</th>\n",
       "      <td>6.8977</td>\n",
       "      <td>1008.8</td>\n",
       "      <td>95.939</td>\n",
       "      <td>3.4824</td>\n",
       "      <td>19.779</td>\n",
       "      <td>1059.4</td>\n",
       "      <td>549.87</td>\n",
       "      <td>114.71</td>\n",
       "      <td>10.601</td>\n",
       "      <td>3.2012</td>\n",
       "      <td>82.468</td>\n",
       "    </tr>\n",
       "    <tr>\n",
       "      <th>3</th>\n",
       "      <td>7.0569</td>\n",
       "      <td>1009.2</td>\n",
       "      <td>95.249</td>\n",
       "      <td>3.4805</td>\n",
       "      <td>19.792</td>\n",
       "      <td>1059.6</td>\n",
       "      <td>549.99</td>\n",
       "      <td>114.72</td>\n",
       "      <td>10.606</td>\n",
       "      <td>3.1923</td>\n",
       "      <td>82.670</td>\n",
       "    </tr>\n",
       "    <tr>\n",
       "      <th>4</th>\n",
       "      <td>7.3978</td>\n",
       "      <td>1009.7</td>\n",
       "      <td>95.150</td>\n",
       "      <td>3.4976</td>\n",
       "      <td>19.765</td>\n",
       "      <td>1059.7</td>\n",
       "      <td>549.98</td>\n",
       "      <td>114.72</td>\n",
       "      <td>10.612</td>\n",
       "      <td>3.2484</td>\n",
       "      <td>82.311</td>\n",
       "    </tr>\n",
       "    <tr>\n",
       "      <th>...</th>\n",
       "      <td>...</td>\n",
       "      <td>...</td>\n",
       "      <td>...</td>\n",
       "      <td>...</td>\n",
       "      <td>...</td>\n",
       "      <td>...</td>\n",
       "      <td>...</td>\n",
       "      <td>...</td>\n",
       "      <td>...</td>\n",
       "      <td>...</td>\n",
       "      <td>...</td>\n",
       "    </tr>\n",
       "    <tr>\n",
       "      <th>8742</th>\n",
       "      <td>9.7038</td>\n",
       "      <td>1012.8</td>\n",
       "      <td>75.201</td>\n",
       "      <td>5.3518</td>\n",
       "      <td>32.582</td>\n",
       "      <td>1100.2</td>\n",
       "      <td>528.99</td>\n",
       "      <td>161.85</td>\n",
       "      <td>14.067</td>\n",
       "      <td>1.7523</td>\n",
       "      <td>72.642</td>\n",
       "    </tr>\n",
       "    <tr>\n",
       "      <th>8743</th>\n",
       "      <td>9.4282</td>\n",
       "      <td>1013.0</td>\n",
       "      <td>74.992</td>\n",
       "      <td>5.2645</td>\n",
       "      <td>32.208</td>\n",
       "      <td>1099.9</td>\n",
       "      <td>530.53</td>\n",
       "      <td>161.22</td>\n",
       "      <td>13.810</td>\n",
       "      <td>2.1326</td>\n",
       "      <td>74.305</td>\n",
       "    </tr>\n",
       "    <tr>\n",
       "      <th>8744</th>\n",
       "      <td>9.0291</td>\n",
       "      <td>1012.8</td>\n",
       "      <td>76.270</td>\n",
       "      <td>5.4282</td>\n",
       "      <td>33.271</td>\n",
       "      <td>1100.0</td>\n",
       "      <td>526.91</td>\n",
       "      <td>163.63</td>\n",
       "      <td>14.133</td>\n",
       "      <td>2.1054</td>\n",
       "      <td>72.240</td>\n",
       "    </tr>\n",
       "    <tr>\n",
       "      <th>8745</th>\n",
       "      <td>8.6401</td>\n",
       "      <td>1012.6</td>\n",
       "      <td>78.721</td>\n",
       "      <td>4.5035</td>\n",
       "      <td>26.698</td>\n",
       "      <td>1089.4</td>\n",
       "      <td>542.90</td>\n",
       "      <td>143.81</td>\n",
       "      <td>12.509</td>\n",
       "      <td>2.2081</td>\n",
       "      <td>80.324</td>\n",
       "    </tr>\n",
       "    <tr>\n",
       "      <th>8746</th>\n",
       "      <td>8.4940</td>\n",
       "      <td>1012.4</td>\n",
       "      <td>80.245</td>\n",
       "      <td>4.0941</td>\n",
       "      <td>23.800</td>\n",
       "      <td>1.0</td>\n",
       "      <td>NaN</td>\n",
       "      <td>NaN</td>\n",
       "      <td>NaN</td>\n",
       "      <td>NaN</td>\n",
       "      <td>NaN</td>\n",
       "    </tr>\n",
       "  </tbody>\n",
       "</table>\n",
       "<p>8747 rows × 11 columns</p>\n",
       "</div>"
      ],
      "text/plain": [
       "          AT      AP      AH    AFDP    GTEP     TIT     TAT     TEY     CDP  \\\n",
       "0     6.8594  1007.9  96.799  3.5000  19.663  1059.2  550.00  114.70  10.605   \n",
       "1     6.7850  1008.4  97.118  3.4998  19.728  1059.3  550.00  114.72  10.598   \n",
       "2     6.8977  1008.8  95.939  3.4824  19.779  1059.4  549.87  114.71  10.601   \n",
       "3     7.0569  1009.2  95.249  3.4805  19.792  1059.6  549.99  114.72  10.606   \n",
       "4     7.3978  1009.7  95.150  3.4976  19.765  1059.7  549.98  114.72  10.612   \n",
       "...      ...     ...     ...     ...     ...     ...     ...     ...     ...   \n",
       "8742  9.7038  1012.8  75.201  5.3518  32.582  1100.2  528.99  161.85  14.067   \n",
       "8743  9.4282  1013.0  74.992  5.2645  32.208  1099.9  530.53  161.22  13.810   \n",
       "8744  9.0291  1012.8  76.270  5.4282  33.271  1100.0  526.91  163.63  14.133   \n",
       "8745  8.6401  1012.6  78.721  4.5035  26.698  1089.4  542.90  143.81  12.509   \n",
       "8746  8.4940  1012.4  80.245  4.0941  23.800     1.0     NaN     NaN     NaN   \n",
       "\n",
       "          CO     NOX  \n",
       "0     3.1547  82.722  \n",
       "1     3.2363  82.776  \n",
       "2     3.2012  82.468  \n",
       "3     3.1923  82.670  \n",
       "4     3.2484  82.311  \n",
       "...      ...     ...  \n",
       "8742  1.7523  72.642  \n",
       "8743  2.1326  74.305  \n",
       "8744  2.1054  72.240  \n",
       "8745  2.2081  80.324  \n",
       "8746     NaN     NaN  \n",
       "\n",
       "[8747 rows x 11 columns]"
      ]
     },
     "execution_count": 8,
     "metadata": {},
     "output_type": "execute_result"
    }
   ],
   "source": [
    "d1 = pd.read_csv('https://raw.githubusercontent.com/Kabirrrrrrr/Datasets/main/gas_turbines.csv.crdownload')\n",
    "d1"
   ]
  },
  {
   "cell_type": "code",
   "execution_count": 9,
   "id": "62583b5e",
   "metadata": {
    "ExecuteTime": {
     "end_time": "2023-02-21T21:52:08.631416Z",
     "start_time": "2023-02-21T21:52:08.587240Z"
    }
   },
   "outputs": [
    {
     "name": "stdout",
     "output_type": "stream",
     "text": [
      "<class 'pandas.core.frame.DataFrame'>\n",
      "RangeIndex: 8747 entries, 0 to 8746\n",
      "Data columns (total 11 columns):\n",
      " #   Column  Non-Null Count  Dtype  \n",
      "---  ------  --------------  -----  \n",
      " 0   AT      8747 non-null   float64\n",
      " 1   AP      8747 non-null   float64\n",
      " 2   AH      8747 non-null   float64\n",
      " 3   AFDP    8747 non-null   float64\n",
      " 4   GTEP    8747 non-null   float64\n",
      " 5   TIT     8747 non-null   float64\n",
      " 6   TAT     8746 non-null   float64\n",
      " 7   TEY     8746 non-null   float64\n",
      " 8   CDP     8746 non-null   float64\n",
      " 9   CO      8746 non-null   float64\n",
      " 10  NOX     8746 non-null   float64\n",
      "dtypes: float64(11)\n",
      "memory usage: 751.8 KB\n"
     ]
    }
   ],
   "source": [
    "d1.info()"
   ]
  },
  {
   "cell_type": "code",
   "execution_count": 10,
   "id": "20f073b9",
   "metadata": {
    "ExecuteTime": {
     "end_time": "2023-02-21T21:52:32.588222Z",
     "start_time": "2023-02-21T21:52:32.458629Z"
    }
   },
   "outputs": [
    {
     "data": {
      "text/html": [
       "<div>\n",
       "<style scoped>\n",
       "    .dataframe tbody tr th:only-of-type {\n",
       "        vertical-align: middle;\n",
       "    }\n",
       "\n",
       "    .dataframe tbody tr th {\n",
       "        vertical-align: top;\n",
       "    }\n",
       "\n",
       "    .dataframe thead th {\n",
       "        text-align: right;\n",
       "    }\n",
       "</style>\n",
       "<table border=\"1\" class=\"dataframe\">\n",
       "  <thead>\n",
       "    <tr style=\"text-align: right;\">\n",
       "      <th></th>\n",
       "      <th>AT</th>\n",
       "      <th>AP</th>\n",
       "      <th>AH</th>\n",
       "      <th>AFDP</th>\n",
       "      <th>GTEP</th>\n",
       "      <th>TIT</th>\n",
       "      <th>TAT</th>\n",
       "      <th>TEY</th>\n",
       "      <th>CDP</th>\n",
       "      <th>CO</th>\n",
       "      <th>NOX</th>\n",
       "    </tr>\n",
       "  </thead>\n",
       "  <tbody>\n",
       "    <tr>\n",
       "      <th>count</th>\n",
       "      <td>8747.000000</td>\n",
       "      <td>8747.000000</td>\n",
       "      <td>8747.000000</td>\n",
       "      <td>8747.000000</td>\n",
       "      <td>8747.000000</td>\n",
       "      <td>8747.000000</td>\n",
       "      <td>8746.000000</td>\n",
       "      <td>8746.000000</td>\n",
       "      <td>8746.000000</td>\n",
       "      <td>8746.000000</td>\n",
       "      <td>8746.000000</td>\n",
       "    </tr>\n",
       "    <tr>\n",
       "      <th>mean</th>\n",
       "      <td>17.182094</td>\n",
       "      <td>1012.732826</td>\n",
       "      <td>79.700376</td>\n",
       "      <td>4.313804</td>\n",
       "      <td>25.488911</td>\n",
       "      <td>1083.819721</td>\n",
       "      <td>545.556986</td>\n",
       "      <td>134.353302</td>\n",
       "      <td>12.098511</td>\n",
       "      <td>2.172577</td>\n",
       "      <td>69.467221</td>\n",
       "    </tr>\n",
       "    <tr>\n",
       "      <th>std</th>\n",
       "      <td>7.901290</td>\n",
       "      <td>6.367242</td>\n",
       "      <td>13.656998</td>\n",
       "      <td>0.804405</td>\n",
       "      <td>4.135594</td>\n",
       "      <td>19.931362</td>\n",
       "      <td>8.026067</td>\n",
       "      <td>15.759426</td>\n",
       "      <td>1.085672</td>\n",
       "      <td>2.373330</td>\n",
       "      <td>10.100859</td>\n",
       "    </tr>\n",
       "    <tr>\n",
       "      <th>min</th>\n",
       "      <td>0.522300</td>\n",
       "      <td>985.850000</td>\n",
       "      <td>30.344000</td>\n",
       "      <td>2.087400</td>\n",
       "      <td>18.100000</td>\n",
       "      <td>1.000000</td>\n",
       "      <td>513.060000</td>\n",
       "      <td>101.150000</td>\n",
       "      <td>9.928600</td>\n",
       "      <td>0.000388</td>\n",
       "      <td>41.777000</td>\n",
       "    </tr>\n",
       "    <tr>\n",
       "      <th>25%</th>\n",
       "      <td>10.201000</td>\n",
       "      <td>1008.700000</td>\n",
       "      <td>70.656000</td>\n",
       "      <td>3.873000</td>\n",
       "      <td>23.487500</td>\n",
       "      <td>1082.600000</td>\n",
       "      <td>544.622500</td>\n",
       "      <td>131.765000</td>\n",
       "      <td>11.710000</td>\n",
       "      <td>0.961252</td>\n",
       "      <td>63.174000</td>\n",
       "    </tr>\n",
       "    <tr>\n",
       "      <th>50%</th>\n",
       "      <td>17.541000</td>\n",
       "      <td>1012.600000</td>\n",
       "      <td>82.964000</td>\n",
       "      <td>4.290400</td>\n",
       "      <td>25.193000</td>\n",
       "      <td>1088.900000</td>\n",
       "      <td>549.910000</td>\n",
       "      <td>133.790000</td>\n",
       "      <td>12.035000</td>\n",
       "      <td>1.523200</td>\n",
       "      <td>67.938000</td>\n",
       "    </tr>\n",
       "    <tr>\n",
       "      <th>75%</th>\n",
       "      <td>23.550000</td>\n",
       "      <td>1016.500000</td>\n",
       "      <td>90.378500</td>\n",
       "      <td>4.741550</td>\n",
       "      <td>26.602500</td>\n",
       "      <td>1094.600000</td>\n",
       "      <td>550.070000</td>\n",
       "      <td>135.630000</td>\n",
       "      <td>12.348000</td>\n",
       "      <td>2.486400</td>\n",
       "      <td>74.717500</td>\n",
       "    </tr>\n",
       "    <tr>\n",
       "      <th>max</th>\n",
       "      <td>34.929000</td>\n",
       "      <td>1031.800000</td>\n",
       "      <td>100.200000</td>\n",
       "      <td>7.610600</td>\n",
       "      <td>37.402000</td>\n",
       "      <td>1100.800000</td>\n",
       "      <td>550.530000</td>\n",
       "      <td>174.610000</td>\n",
       "      <td>15.081000</td>\n",
       "      <td>44.103000</td>\n",
       "      <td>119.890000</td>\n",
       "    </tr>\n",
       "  </tbody>\n",
       "</table>\n",
       "</div>"
      ],
      "text/plain": [
       "                AT           AP           AH         AFDP         GTEP  \\\n",
       "count  8747.000000  8747.000000  8747.000000  8747.000000  8747.000000   \n",
       "mean     17.182094  1012.732826    79.700376     4.313804    25.488911   \n",
       "std       7.901290     6.367242    13.656998     0.804405     4.135594   \n",
       "min       0.522300   985.850000    30.344000     2.087400    18.100000   \n",
       "25%      10.201000  1008.700000    70.656000     3.873000    23.487500   \n",
       "50%      17.541000  1012.600000    82.964000     4.290400    25.193000   \n",
       "75%      23.550000  1016.500000    90.378500     4.741550    26.602500   \n",
       "max      34.929000  1031.800000   100.200000     7.610600    37.402000   \n",
       "\n",
       "               TIT          TAT          TEY          CDP           CO  \\\n",
       "count  8747.000000  8746.000000  8746.000000  8746.000000  8746.000000   \n",
       "mean   1083.819721   545.556986   134.353302    12.098511     2.172577   \n",
       "std      19.931362     8.026067    15.759426     1.085672     2.373330   \n",
       "min       1.000000   513.060000   101.150000     9.928600     0.000388   \n",
       "25%    1082.600000   544.622500   131.765000    11.710000     0.961252   \n",
       "50%    1088.900000   549.910000   133.790000    12.035000     1.523200   \n",
       "75%    1094.600000   550.070000   135.630000    12.348000     2.486400   \n",
       "max    1100.800000   550.530000   174.610000    15.081000    44.103000   \n",
       "\n",
       "               NOX  \n",
       "count  8746.000000  \n",
       "mean     69.467221  \n",
       "std      10.100859  \n",
       "min      41.777000  \n",
       "25%      63.174000  \n",
       "50%      67.938000  \n",
       "75%      74.717500  \n",
       "max     119.890000  "
      ]
     },
     "execution_count": 10,
     "metadata": {},
     "output_type": "execute_result"
    }
   ],
   "source": [
    "d1.describe()"
   ]
  },
  {
   "cell_type": "code",
   "execution_count": 11,
   "id": "5973ef2d",
   "metadata": {
    "ExecuteTime": {
     "end_time": "2023-02-21T21:52:50.331887Z",
     "start_time": "2023-02-21T21:52:50.306267Z"
    }
   },
   "outputs": [
    {
     "data": {
      "text/plain": [
       "Index(['AT', 'AP', 'AH', 'AFDP', 'GTEP', 'TIT', 'TAT', 'TEY', 'CDP', 'CO',\n",
       "       'NOX'],\n",
       "      dtype='object')"
      ]
     },
     "execution_count": 11,
     "metadata": {},
     "output_type": "execute_result"
    }
   ],
   "source": [
    "d1.columns"
   ]
  },
  {
   "cell_type": "code",
   "execution_count": 12,
   "id": "4df8f80e",
   "metadata": {
    "ExecuteTime": {
     "end_time": "2023-02-21T21:54:58.783605Z",
     "start_time": "2023-02-21T21:54:58.752490Z"
    }
   },
   "outputs": [
    {
     "data": {
      "text/plain": [
       "AT      0\n",
       "AP      0\n",
       "AH      0\n",
       "AFDP    0\n",
       "GTEP    0\n",
       "TIT     0\n",
       "TAT     1\n",
       "TEY     1\n",
       "CDP     1\n",
       "CO      1\n",
       "NOX     1\n",
       "dtype: int64"
      ]
     },
     "execution_count": 12,
     "metadata": {},
     "output_type": "execute_result"
    }
   ],
   "source": [
    "d1.isnull().sum()"
   ]
  },
  {
   "cell_type": "code",
   "execution_count": 13,
   "id": "66278eac",
   "metadata": {
    "ExecuteTime": {
     "end_time": "2023-02-21T21:55:18.418056Z",
     "start_time": "2023-02-21T21:55:17.961505Z"
    }
   },
   "outputs": [
    {
     "name": "stderr",
     "output_type": "stream",
     "text": [
      "C:\\Users\\Prajwal\\anaconda3\\lib\\site-packages\\seaborn\\_decorators.py:36: FutureWarning: Pass the following variable as a keyword arg: x. From version 0.12, the only valid positional argument will be `data`, and passing other arguments without an explicit keyword will result in an error or misinterpretation.\n",
      "  warnings.warn(\n"
     ]
    },
    {
     "data": {
      "text/plain": [
       "<AxesSubplot:xlabel='TEY'>"
      ]
     },
     "execution_count": 13,
     "metadata": {},
     "output_type": "execute_result"
    },
    {
     "data": {
      "image/png": "[encoded data removed]",
      "text/plain": [
       "<Figure size 640x480 with 1 Axes>"
      ]
     },
     "metadata": {},
     "output_type": "display_data"
    }
   ],
   "source": [
    "sns.boxplot(d1['TEY'], color = 'red')"
   ]
  },
  {
   "cell_type": "code",
   "execution_count": 14,
   "id": "e204ccf5",
   "metadata": {
    "ExecuteTime": {
     "end_time": "2023-02-21T21:55:31.416106Z",
     "start_time": "2023-02-21T21:55:31.391397Z"
    }
   },
   "outputs": [],
   "source": [
    "X = data.loc[:,['AT', 'AP', 'AH', 'AFDP', 'GTEP', 'TIT', 'TAT', 'CDP', 'CO','NOX']]\n",
    "y= data.loc[:,['TEY']]"
   ]
  },
  {
   "cell_type": "code",
   "execution_count": 15,
   "id": "4dcc5174",
   "metadata": {
    "ExecuteTime": {
     "end_time": "2023-02-21T21:55:42.855294Z",
     "start_time": "2023-02-21T21:55:42.783670Z"
    }
   },
   "outputs": [],
   "source": [
    "scaled = StandardScaler()\n",
    "X = scaled.fit_transform(X)\n",
    "y = scaled.fit_transform(y)"
   ]
  },
  {
   "cell_type": "markdown",
   "id": "43976eb0",
   "metadata": {
    "ExecuteTime": {
     "end_time": "2023-02-21T21:55:55.610817Z",
     "start_time": "2023-02-21T21:55:55.595451Z"
    }
   },
   "source": [
    "# _Building_Model and Applying_Keras_"
   ]
  },
  {
   "cell_type": "code",
   "execution_count": 17,
   "id": "787e118c",
   "metadata": {
    "ExecuteTime": {
     "end_time": "2023-02-21T21:56:23.182702Z",
     "start_time": "2023-02-21T21:56:23.135548Z"
    }
   },
   "outputs": [],
   "source": [
    "def baseline_model():\n",
    "    model = Sequential()\n",
    "    model.add(Dense(10, input_dim=10, activation='tanh'))\n",
    "    model.add(Dense(1))\n",
    "    model.compile(loss='mean_squared_error', optimizer='adam')\n",
    "    return model"
   ]
  },
  {
   "cell_type": "code",
   "execution_count": 19,
   "id": "592621b7",
   "metadata": {
    "ExecuteTime": {
     "end_time": "2023-02-21T21:57:43.565630Z",
     "start_time": "2023-02-21T21:57:19.688707Z"
    }
   },
   "outputs": [
    {
     "name": "stderr",
     "output_type": "stream",
     "text": [
      "C:\\Users\\Prajwal\\AppData\\Local\\Temp\\ipykernel_14508\\1991303876.py:6: DeprecationWarning: KerasRegressor is deprecated, use Sci-Keras (https://github.com/adriangb/scikeras) instead. See https://www.adriangb.com/scikeras/stable/migration.html for help migrating.\n",
      "  estimator = KerasRegressor(build_fn=baseline_model, nb_epoch=50, batch_size=100, verbose=False)\n"
     ]
    },
    {
     "name": "stdout",
     "output_type": "stream",
     "text": [
      "Results: nan (nan) MSE\n"
     ]
    }
   ],
   "source": [
    "import keras\n",
    "from sklearn.model_selection import KFold\n",
    "from keras.wrappers.scikit_learn import KerasRegressor\n",
    "from keras.models import Sequential\n",
    "from keras.layers import InputLayer,Dense\n",
    "estimator = KerasRegressor(build_fn=baseline_model, nb_epoch=50, batch_size=100, verbose=False)\n",
    "kfold = KFold(n_splits=10)\n",
    "results = cross_val_score(estimator, X, y, cv=kfold)\n",
    "print(\"Results: %.2f (%.2f) MSE\" % (results.mean(), results.std()))"
   ]
  },
  {
   "cell_type": "code",
   "execution_count": 20,
   "id": "3ac38a60",
   "metadata": {
    "ExecuteTime": {
     "end_time": "2023-02-21T21:57:44.970089Z",
     "start_time": "2023-02-21T21:57:43.574695Z"
    }
   },
   "outputs": [
    {
     "data": {
      "text/plain": [
       "array([nan, nan, nan, ..., nan, nan, nan], dtype=float32)"
      ]
     },
     "execution_count": 20,
     "metadata": {},
     "output_type": "execute_result"
    }
   ],
   "source": [
    "estimator.fit(X, y)\n",
    "prediction = estimator.predict(X)\n",
    "prediction"
   ]
  },
  {
   "cell_type": "code",
   "execution_count": 21,
   "id": "1e8d3304",
   "metadata": {
    "ExecuteTime": {
     "end_time": "2023-02-21T21:57:47.937819Z",
     "start_time": "2023-02-21T21:57:47.917344Z"
    }
   },
   "outputs": [],
   "source": [
    "from sklearn.model_selection import train_test_split\n",
    "X_train,X_test,y_train,y_test = train_test_split(X,y,test_size=0.3)"
   ]
  },
  {
   "cell_type": "code",
   "execution_count": 22,
   "id": "cf1c84d7",
   "metadata": {
    "ExecuteTime": {
     "end_time": "2023-02-21T21:58:08.211962Z",
     "start_time": "2023-02-21T21:58:07.106381Z"
    }
   },
   "outputs": [],
   "source": [
    "estimator.fit(X_train, y_train)\n",
    "prediction = estimator.predict(X_test)"
   ]
  },
  {
   "cell_type": "code",
   "execution_count": 23,
   "id": "b56c0f40",
   "metadata": {
    "ExecuteTime": {
     "end_time": "2023-02-21T21:58:17.316079Z",
     "start_time": "2023-02-21T21:58:17.299229Z"
    }
   },
   "outputs": [
    {
     "data": {
      "text/plain": [
       "array([nan, nan, nan, ..., nan, nan, nan], dtype=float32)"
      ]
     },
     "execution_count": 23,
     "metadata": {},
     "output_type": "execute_result"
    }
   ],
   "source": [
    "prediction"
   ]
  },
  {
   "cell_type": "code",
   "execution_count": 24,
   "id": "11946e44",
   "metadata": {
    "ExecuteTime": {
     "end_time": "2023-02-21T21:58:41.541328Z",
     "start_time": "2023-02-21T21:58:41.523637Z"
    }
   },
   "outputs": [],
   "source": [
    "X = data.drop(columns = ['TEY'], axis = 1) \n",
    "y = data.iloc[:,7]"
   ]
  },
  {
   "cell_type": "code",
   "execution_count": 25,
   "id": "d54530d0",
   "metadata": {
    "ExecuteTime": {
     "end_time": "2023-02-21T21:58:54.043517Z",
     "start_time": "2023-02-21T21:58:53.990053Z"
    }
   },
   "outputs": [
    {
     "data": {
      "text/plain": [
       "array([[ 1.45457894e+00, -1.18216752e+00,  2.18174944e-01, ...,\n",
       "        -1.02469236e-01, -4.20286348e-01, -1.53003243e+00],\n",
       "       [ 4.16469171e-01, -2.18890094e-02,  2.05719259e-01, ...,\n",
       "        -1.54252155e+00,  1.41960029e+00, -9.07653361e-01],\n",
       "       [ 2.14794986e+00, -2.37369305e-01, -2.67444074e+00, ...,\n",
       "         3.87111532e-01,  1.89333028e-01,  1.49108899e+00],\n",
       "       ...,\n",
       "       [ 1.65226341e-03, -3.43310784e+00, -1.04332529e+00, ...,\n",
       "        -2.14452739e-01, -4.13647831e-01,  7.46229365e-01],\n",
       "       [ 1.08422016e+00, -6.51754489e-01,  9.21269418e-01, ...,\n",
       "         5.57884415e-02, -2.93083781e-01, -1.23242441e+00],\n",
       "       [-9.59321402e-01,  2.93043730e-01,  1.60096690e-01, ...,\n",
       "         2.70984532e-02, -2.84089660e-01,  8.88958733e-01]])"
      ]
     },
     "execution_count": 25,
     "metadata": {},
     "output_type": "execute_result"
    }
   ],
   "source": [
    "from sklearn.preprocessing import scale\n",
    "X_train, X_test, y_train, y_test = train_test_split(X, y, test_size = 0.1, random_state = 42)\n",
    "X_train_scaled = scale(X_train)\n",
    "X_test_scaled = scale(X_test)\n",
    "X_test_scaled"
   ]
  },
  {
   "cell_type": "code",
   "execution_count": 26,
   "id": "51eb89ae",
   "metadata": {
    "ExecuteTime": {
     "end_time": "2023-02-21T21:59:17.684348Z",
     "start_time": "2023-02-21T21:59:16.919364Z"
    }
   },
   "outputs": [],
   "source": [
    "import tensorflow as tf\n",
    "input_size = len(X.columns)\n",
    "output_size = 1\n",
    "hidden_layer_size = 50\n",
    "\n",
    "model = tf.keras.Sequential([\n",
    "                                \n",
    "                               tf.keras.layers.Dense(hidden_layer_size, input_dim = input_size, activation = 'relu'),\n",
    "                               tf.keras.layers.Dense(hidden_layer_size, activation = 'relu'),\n",
    "                               tf.keras.layers.Dense(hidden_layer_size, activation = 'relu'),\n",
    "                               tf.keras.layers.Dense(hidden_layer_size, activation = 'relu'),     \n",
    "                               tf.keras.layers.Dense(output_size)\n",
    "                             ])"
   ]
  },
  {
   "cell_type": "code",
   "execution_count": 27,
   "id": "15928e86",
   "metadata": {
    "ExecuteTime": {
     "end_time": "2023-02-21T21:59:32.592532Z",
     "start_time": "2023-02-21T21:59:32.554780Z"
    }
   },
   "outputs": [],
   "source": [
    "optimizer = tf.keras.optimizers.SGD(learning_rate = 0.03)\n",
    "model.compile(optimizer = 'adam', loss = 'mean_squared_error', metrics = ['MeanSquaredError'])"
   ]
  },
  {
   "cell_type": "code",
   "execution_count": 28,
   "id": "a4b9acb5",
   "metadata": {
    "ExecuteTime": {
     "end_time": "2023-02-21T21:59:59.852153Z",
     "start_time": "2023-02-21T21:59:44.244387Z"
    }
   },
   "outputs": [
    {
     "name": "stdout",
     "output_type": "stream",
     "text": [
      "Epoch 1/100\n",
      "222/222 - 2s - loss: 4904.7485 - mean_squared_error: 4904.7485 - val_loss: 348.1867 - val_mean_squared_error: 348.1867 - 2s/epoch - 9ms/step\n",
      "Epoch 2/100\n",
      "222/222 - 1s - loss: 215.9266 - mean_squared_error: 215.9266 - val_loss: 164.7282 - val_mean_squared_error: 164.7282 - 683ms/epoch - 3ms/step\n",
      "Epoch 3/100\n",
      "222/222 - 1s - loss: 104.9619 - mean_squared_error: 104.9619 - val_loss: 90.1650 - val_mean_squared_error: 90.1650 - 627ms/epoch - 3ms/step\n",
      "Epoch 4/100\n",
      "222/222 - 1s - loss: 56.2912 - mean_squared_error: 56.2912 - val_loss: 46.1051 - val_mean_squared_error: 46.1051 - 581ms/epoch - 3ms/step\n",
      "Epoch 5/100\n",
      "222/222 - 1s - loss: 31.5312 - mean_squared_error: 31.5312 - val_loss: 24.7087 - val_mean_squared_error: 24.7087 - 637ms/epoch - 3ms/step\n",
      "Epoch 6/100\n",
      "222/222 - 1s - loss: 18.9024 - mean_squared_error: 18.9024 - val_loss: 18.1560 - val_mean_squared_error: 18.1560 - 663ms/epoch - 3ms/step\n",
      "Epoch 7/100\n",
      "222/222 - 1s - loss: 12.4884 - mean_squared_error: 12.4884 - val_loss: 11.6937 - val_mean_squared_error: 11.6937 - 614ms/epoch - 3ms/step\n",
      "Epoch 8/100\n",
      "222/222 - 1s - loss: 8.2479 - mean_squared_error: 8.2479 - val_loss: 9.6315 - val_mean_squared_error: 9.6315 - 590ms/epoch - 3ms/step\n",
      "Epoch 9/100\n",
      "222/222 - 1s - loss: 6.0124 - mean_squared_error: 6.0124 - val_loss: 6.6590 - val_mean_squared_error: 6.6590 - 611ms/epoch - 3ms/step\n",
      "Epoch 10/100\n",
      "222/222 - 1s - loss: 4.3501 - mean_squared_error: 4.3501 - val_loss: 5.9797 - val_mean_squared_error: 5.9797 - 575ms/epoch - 3ms/step\n",
      "Epoch 11/100\n",
      "222/222 - 1s - loss: 3.5142 - mean_squared_error: 3.5142 - val_loss: 4.3899 - val_mean_squared_error: 4.3899 - 626ms/epoch - 3ms/step\n",
      "Epoch 12/100\n",
      "222/222 - 1s - loss: 3.0221 - mean_squared_error: 3.0221 - val_loss: 3.1973 - val_mean_squared_error: 3.1973 - 597ms/epoch - 3ms/step\n",
      "Epoch 13/100\n",
      "222/222 - 1s - loss: 2.5703 - mean_squared_error: 2.5703 - val_loss: 3.3934 - val_mean_squared_error: 3.3934 - 656ms/epoch - 3ms/step\n",
      "Epoch 14/100\n",
      "222/222 - 1s - loss: 2.1641 - mean_squared_error: 2.1641 - val_loss: 2.9059 - val_mean_squared_error: 2.9059 - 576ms/epoch - 3ms/step\n",
      "Epoch 15/100\n",
      "222/222 - 1s - loss: 2.0567 - mean_squared_error: 2.0567 - val_loss: 2.4332 - val_mean_squared_error: 2.4332 - 550ms/epoch - 2ms/step\n",
      "Epoch 16/100\n",
      "222/222 - 1s - loss: 1.8155 - mean_squared_error: 1.8155 - val_loss: 1.9063 - val_mean_squared_error: 1.9063 - 547ms/epoch - 2ms/step\n",
      "Epoch 17/100\n",
      "222/222 - 1s - loss: 1.6308 - mean_squared_error: 1.6308 - val_loss: 2.8305 - val_mean_squared_error: 2.8305 - 731ms/epoch - 3ms/step\n",
      "Epoch 18/100\n",
      "222/222 - 1s - loss: 1.4396 - mean_squared_error: 1.4396 - val_loss: 1.7413 - val_mean_squared_error: 1.7413 - 525ms/epoch - 2ms/step\n",
      "Epoch 19/100\n",
      "222/222 - 1s - loss: 1.2940 - mean_squared_error: 1.2940 - val_loss: 2.0842 - val_mean_squared_error: 2.0842 - 610ms/epoch - 3ms/step\n",
      "Epoch 20/100\n",
      "222/222 - 1s - loss: 1.1917 - mean_squared_error: 1.1917 - val_loss: 1.4771 - val_mean_squared_error: 1.4771 - 584ms/epoch - 3ms/step\n",
      "Epoch 21/100\n",
      "222/222 - 1s - loss: 1.0946 - mean_squared_error: 1.0946 - val_loss: 1.2174 - val_mean_squared_error: 1.2174 - 595ms/epoch - 3ms/step\n",
      "Epoch 22/100\n",
      "222/222 - 1s - loss: 0.9995 - mean_squared_error: 0.9995 - val_loss: 1.3160 - val_mean_squared_error: 1.3160 - 598ms/epoch - 3ms/step\n",
      "Epoch 23/100\n",
      "222/222 - 1s - loss: 0.9587 - mean_squared_error: 0.9587 - val_loss: 1.4698 - val_mean_squared_error: 1.4698 - 615ms/epoch - 3ms/step\n"
     ]
    },
    {
     "data": {
      "text/plain": [
       "<keras.callbacks.History at 0x2c89c72f820>"
      ]
     },
     "execution_count": 28,
     "metadata": {},
     "output_type": "execute_result"
    }
   ],
   "source": [
    "num_epochs = 100\n",
    "early_stopping = tf.keras.callbacks.EarlyStopping(patience = 2)\n",
    "model.fit(X_train_scaled, y_train, callbacks = early_stopping, validation_split = 0.1, epochs = num_epochs, verbose = 2)"
   ]
  },
  {
   "cell_type": "code",
   "execution_count": 29,
   "id": "fb6f5328",
   "metadata": {
    "ExecuteTime": {
     "end_time": "2023-02-21T22:00:04.792639Z",
     "start_time": "2023-02-21T22:00:04.553853Z"
    }
   },
   "outputs": [
    {
     "name": "stdout",
     "output_type": "stream",
     "text": [
      "28/28 [==============================] - 0s 3ms/step - loss: nan - mean_squared_error: nan    \n"
     ]
    }
   ],
   "source": [
    "test_loss, mean_squared_error = model.evaluate(X_test_scaled, y_test)"
   ]
  },
  {
   "cell_type": "code",
   "execution_count": 33,
   "id": "017e81d3",
   "metadata": {
    "ExecuteTime": {
     "end_time": "2023-02-21T22:02:57.302196Z",
     "start_time": "2023-02-21T22:02:57.257919Z"
    }
   },
   "outputs": [],
   "source": [
    "predictions = model.predict_on_batch(X_test_scaled)"
   ]
  },
  {
   "cell_type": "code",
   "execution_count": 34,
   "id": "b676b257",
   "metadata": {
    "ExecuteTime": {
     "end_time": "2023-02-21T22:03:01.788125Z",
     "start_time": "2023-02-21T22:03:01.750106Z"
    }
   },
   "outputs": [],
   "source": [
    "predictions = model.predict_on_batch(X_test_scaled)"
   ]
  },
  {
   "cell_type": "code",
   "execution_count": 35,
   "id": "7a67af27",
   "metadata": {
    "ExecuteTime": {
     "end_time": "2023-02-21T22:03:06.525388Z",
     "start_time": "2023-02-21T22:03:06.466138Z"
    }
   },
   "outputs": [
    {
     "data": {
      "text/html": [
       "<div>\n",
       "<style scoped>\n",
       "    .dataframe tbody tr th:only-of-type {\n",
       "        vertical-align: middle;\n",
       "    }\n",
       "\n",
       "    .dataframe tbody tr th {\n",
       "        vertical-align: top;\n",
       "    }\n",
       "\n",
       "    .dataframe thead th {\n",
       "        text-align: right;\n",
       "    }\n",
       "</style>\n",
       "<table border=\"1\" class=\"dataframe\">\n",
       "  <thead>\n",
       "    <tr style=\"text-align: right;\">\n",
       "      <th></th>\n",
       "      <th>Actual</th>\n",
       "      <th>Predicted</th>\n",
       "      <th>% Error</th>\n",
       "    </tr>\n",
       "  </thead>\n",
       "  <tbody>\n",
       "    <tr>\n",
       "      <th>0</th>\n",
       "      <td>133.89</td>\n",
       "      <td>129.178284</td>\n",
       "      <td>3.519095</td>\n",
       "    </tr>\n",
       "    <tr>\n",
       "      <th>1</th>\n",
       "      <td>108.74</td>\n",
       "      <td>123.957451</td>\n",
       "      <td>13.994345</td>\n",
       "    </tr>\n",
       "    <tr>\n",
       "      <th>2</th>\n",
       "      <td>134.16</td>\n",
       "      <td>129.236298</td>\n",
       "      <td>3.670023</td>\n",
       "    </tr>\n",
       "    <tr>\n",
       "      <th>3</th>\n",
       "      <td>109.97</td>\n",
       "      <td>126.009109</td>\n",
       "      <td>14.584986</td>\n",
       "    </tr>\n",
       "    <tr>\n",
       "      <th>4</th>\n",
       "      <td>129.14</td>\n",
       "      <td>130.859238</td>\n",
       "      <td>1.331298</td>\n",
       "    </tr>\n",
       "    <tr>\n",
       "      <th>...</th>\n",
       "      <td>...</td>\n",
       "      <td>...</td>\n",
       "      <td>...</td>\n",
       "    </tr>\n",
       "    <tr>\n",
       "      <th>870</th>\n",
       "      <td>111.79</td>\n",
       "      <td>125.972946</td>\n",
       "      <td>12.687133</td>\n",
       "    </tr>\n",
       "    <tr>\n",
       "      <th>871</th>\n",
       "      <td>132.97</td>\n",
       "      <td>132.965500</td>\n",
       "      <td>0.003384</td>\n",
       "    </tr>\n",
       "    <tr>\n",
       "      <th>872</th>\n",
       "      <td>133.71</td>\n",
       "      <td>132.225800</td>\n",
       "      <td>1.110015</td>\n",
       "    </tr>\n",
       "    <tr>\n",
       "      <th>873</th>\n",
       "      <td>134.12</td>\n",
       "      <td>130.280121</td>\n",
       "      <td>2.863018</td>\n",
       "    </tr>\n",
       "    <tr>\n",
       "      <th>874</th>\n",
       "      <td>137.76</td>\n",
       "      <td>135.849472</td>\n",
       "      <td>1.386852</td>\n",
       "    </tr>\n",
       "  </tbody>\n",
       "</table>\n",
       "<p>875 rows × 3 columns</p>\n",
       "</div>"
      ],
      "text/plain": [
       "     Actual   Predicted    % Error\n",
       "0    133.89  129.178284   3.519095\n",
       "1    108.74  123.957451  13.994345\n",
       "2    134.16  129.236298   3.670023\n",
       "3    109.97  126.009109  14.584986\n",
       "4    129.14  130.859238   1.331298\n",
       "..      ...         ...        ...\n",
       "870  111.79  125.972946  12.687133\n",
       "871  132.97  132.965500   0.003384\n",
       "872  133.71  132.225800   1.110015\n",
       "873  134.12  130.280121   2.863018\n",
       "874  137.76  135.849472   1.386852\n",
       "\n",
       "[875 rows x 3 columns]"
      ]
     },
     "execution_count": 35,
     "metadata": {},
     "output_type": "execute_result"
    }
   ],
   "source": [
    "predictions_df = pd.DataFrame()\n",
    "predictions_df['Actual'] = y_test\n",
    "predictions_df['Predicted'] = predictions\n",
    "predictions_df['% Error'] = abs(predictions_df['Actual'] - predictions_df['Predicted'])/predictions_df['Actual']*100\n",
    "predictions_df.reset_index(drop = True)"
   ]
  },
  {
   "cell_type": "code",
   "execution_count": null,
   "id": "70cc930b",
   "metadata": {},
   "outputs": [],
   "source": []
  },
  {
   "cell_type": "code",
   "execution_count": null,
   "id": "d9705f3e",
   "metadata": {},
   "outputs": [],
   "source": []
  },
  {
   "cell_type": "code",
   "execution_count": null,
   "id": "1be55f36",
   "metadata": {},
   "outputs": [],
   "source": []
  },
  {
   "cell_type": "code",
   "execution_count": null,
   "id": "bf042e01",
   "metadata": {},
   "outputs": [],
   "source": []
  },
  {
   "cell_type": "code",
   "execution_count": null,
   "id": "f26818bf",
   "metadata": {},
   "outputs": [],
   "source": []
  }
 ],
 "metadata": {
  "kernelspec": {
   "display_name": "Python 3 (ipykernel)",
   "language": "python",
   "name": "python3"
  },
  "language_info": {
   "codemirror_mode": {
    "name": "ipython",
    "version": 3
   },
   "file_extension": ".py",
   "mimetype": "text/x-python",
   "name": "python",
   "nbconvert_exporter": "python",
   "pygments_lexer": "ipython3",
   "version": "3.9.13"
  }
 },
 "nbformat": 4,
 "nbformat_minor": 5
}
